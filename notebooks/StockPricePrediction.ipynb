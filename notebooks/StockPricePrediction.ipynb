{
 "cells": [
  {
   "cell_type": "markdown",
   "metadata": {},
   "source": [
    "#### **Using importlib method to use config.py file in all folders!**"
   ]
  },
  {
   "cell_type": "code",
   "execution_count": 369,
   "metadata": {},
   "outputs": [],
   "source": [
    "import importlib.util\n",
    "import os\n",
    "\n",
    "# Define the path to config.py\n",
    "config_path = os.path.abspath(os.path.join(os.path.dirname(r'C:\\Users\\nilay\\OneDrive - Cal State Fullerton (1)\\Desktop\\NILAY-TO-JOB-DATA\\SPRING 2024\\CPSC 597 Project\\Stock-Price-Prediction'), 'Stock-Price-Prediction', 'config.py'))\n",
    "\n",
    "# Load the module from the specified path\n",
    "spec = importlib.util.spec_from_file_location(\"config\", config_path)\n",
    "config = importlib.util.module_from_spec(spec)\n",
    "spec.loader.exec_module(config)"
   ]
  },
  {
   "cell_type": "markdown",
   "metadata": {},
   "source": [
    "### **Dataset Loading \\ Preprocessing \\ Splitting**"
   ]
  },
  {
   "cell_type": "markdown",
   "metadata": {},
   "source": [
    "#### **Importing Required Libraries**"
   ]
  },
  {
   "cell_type": "code",
   "execution_count": 370,
   "metadata": {},
   "outputs": [],
   "source": [
    "import pandas as pd     # this is to load the csv data\n",
    "from matplotlib import pyplot as plt        # used for data visualization\n",
    "import os       # this is mainly for working with system paths\n",
    "import numpy as np"
   ]
  },
  {
   "cell_type": "markdown",
   "metadata": {},
   "source": [
    "#### **Loading the CSV Dataset**"
   ]
  },
  {
   "cell_type": "code",
   "execution_count": 371,
   "metadata": {},
   "outputs": [],
   "source": [
    "dataset_filepath = os.path.join(config.BASE_DIR, 'dataset', 'INFY.NS.csv')\n",
    "data_frame = pd.read_csv(dataset_filepath)"
   ]
  },
  {
   "cell_type": "code",
   "execution_count": 372,
   "metadata": {},
   "outputs": [
    {
     "data": {
      "text/html": [
       "<div>\n",
       "<style scoped>\n",
       "    .dataframe tbody tr th:only-of-type {\n",
       "        vertical-align: middle;\n",
       "    }\n",
       "\n",
       "    .dataframe tbody tr th {\n",
       "        vertical-align: top;\n",
       "    }\n",
       "\n",
       "    .dataframe thead th {\n",
       "        text-align: right;\n",
       "    }\n",
       "</style>\n",
       "<table border=\"1\" class=\"dataframe\">\n",
       "  <thead>\n",
       "    <tr style=\"text-align: right;\">\n",
       "      <th></th>\n",
       "      <th>Date</th>\n",
       "      <th>Open</th>\n",
       "      <th>High</th>\n",
       "      <th>Low</th>\n",
       "      <th>Close</th>\n",
       "      <th>Adj Close</th>\n",
       "      <th>Volume</th>\n",
       "    </tr>\n",
       "  </thead>\n",
       "  <tbody>\n",
       "    <tr>\n",
       "      <th>894</th>\n",
       "      <td>1999-06-04</td>\n",
       "      <td>25.085938</td>\n",
       "      <td>25.195313</td>\n",
       "      <td>24.765625</td>\n",
       "      <td>25.000389</td>\n",
       "      <td>17.533106</td>\n",
       "      <td>12052608.0</td>\n",
       "    </tr>\n",
       "    <tr>\n",
       "      <th>444</th>\n",
       "      <td>1997-09-12</td>\n",
       "      <td>5.507812</td>\n",
       "      <td>5.737890</td>\n",
       "      <td>5.433593</td>\n",
       "      <td>5.641406</td>\n",
       "      <td>3.932545</td>\n",
       "      <td>6425600.0</td>\n",
       "    </tr>\n",
       "    <tr>\n",
       "      <th>3519</th>\n",
       "      <td>2009-09-24</td>\n",
       "      <td>292.500000</td>\n",
       "      <td>292.500000</td>\n",
       "      <td>282.493744</td>\n",
       "      <td>285.556244</td>\n",
       "      <td>221.456696</td>\n",
       "      <td>44169688.0</td>\n",
       "    </tr>\n",
       "    <tr>\n",
       "      <th>5032</th>\n",
       "      <td>2015-11-04</td>\n",
       "      <td>575.049988</td>\n",
       "      <td>578.799988</td>\n",
       "      <td>566.150024</td>\n",
       "      <td>568.400024</td>\n",
       "      <td>490.471588</td>\n",
       "      <td>3205572.0</td>\n",
       "    </tr>\n",
       "    <tr>\n",
       "      <th>5037</th>\n",
       "      <td>2015-11-13</td>\n",
       "      <td>549.974976</td>\n",
       "      <td>553.000000</td>\n",
       "      <td>545.000000</td>\n",
       "      <td>550.400024</td>\n",
       "      <td>474.939362</td>\n",
       "      <td>3520868.0</td>\n",
       "    </tr>\n",
       "  </tbody>\n",
       "</table>\n",
       "</div>"
      ],
      "text/plain": [
       "            Date        Open        High         Low       Close   Adj Close  \\\n",
       "894   1999-06-04   25.085938   25.195313   24.765625   25.000389   17.533106   \n",
       "444   1997-09-12    5.507812    5.737890    5.433593    5.641406    3.932545   \n",
       "3519  2009-09-24  292.500000  292.500000  282.493744  285.556244  221.456696   \n",
       "5032  2015-11-04  575.049988  578.799988  566.150024  568.400024  490.471588   \n",
       "5037  2015-11-13  549.974976  553.000000  545.000000  550.400024  474.939362   \n",
       "\n",
       "          Volume  \n",
       "894   12052608.0  \n",
       "444    6425600.0  \n",
       "3519  44169688.0  \n",
       "5032   3205572.0  \n",
       "5037   3520868.0  "
      ]
     },
     "execution_count": 372,
     "metadata": {},
     "output_type": "execute_result"
    }
   ],
   "source": [
    "# viewing the pandas data_frame\n",
    "data_frame.sample(5)"
   ]
  },
  {
   "cell_type": "code",
   "execution_count": 373,
   "metadata": {},
   "outputs": [
    {
     "data": {
      "text/html": [
       "<div>\n",
       "<style scoped>\n",
       "    .dataframe tbody tr th:only-of-type {\n",
       "        vertical-align: middle;\n",
       "    }\n",
       "\n",
       "    .dataframe tbody tr th {\n",
       "        vertical-align: top;\n",
       "    }\n",
       "\n",
       "    .dataframe thead th {\n",
       "        text-align: right;\n",
       "    }\n",
       "</style>\n",
       "<table border=\"1\" class=\"dataframe\">\n",
       "  <thead>\n",
       "    <tr style=\"text-align: right;\">\n",
       "      <th></th>\n",
       "      <th>Open</th>\n",
       "      <th>High</th>\n",
       "      <th>Low</th>\n",
       "      <th>Close</th>\n",
       "      <th>Adj Close</th>\n",
       "      <th>Volume</th>\n",
       "    </tr>\n",
       "  </thead>\n",
       "  <tbody>\n",
       "    <tr>\n",
       "      <th>5602</th>\n",
       "      <td>575.500000</td>\n",
       "      <td>577.525024</td>\n",
       "      <td>567.174988</td>\n",
       "      <td>569.299988</td>\n",
       "      <td>517.117676</td>\n",
       "      <td>5083608.0</td>\n",
       "    </tr>\n",
       "    <tr>\n",
       "      <th>3329</th>\n",
       "      <td>140.000000</td>\n",
       "      <td>142.250000</td>\n",
       "      <td>136.256256</td>\n",
       "      <td>137.787506</td>\n",
       "      <td>105.979141</td>\n",
       "      <td>13738152.0</td>\n",
       "    </tr>\n",
       "    <tr>\n",
       "      <th>5299</th>\n",
       "      <td>485.024994</td>\n",
       "      <td>493.049988</td>\n",
       "      <td>485.024994</td>\n",
       "      <td>492.325012</td>\n",
       "      <td>434.382355</td>\n",
       "      <td>5941662.0</td>\n",
       "    </tr>\n",
       "    <tr>\n",
       "      <th>3531</th>\n",
       "      <td>286.000000</td>\n",
       "      <td>286.000000</td>\n",
       "      <td>276.375000</td>\n",
       "      <td>281.981262</td>\n",
       "      <td>218.684143</td>\n",
       "      <td>8163800.0</td>\n",
       "    </tr>\n",
       "    <tr>\n",
       "      <th>451</th>\n",
       "      <td>5.546875</td>\n",
       "      <td>5.815429</td>\n",
       "      <td>5.546875</td>\n",
       "      <td>5.746289</td>\n",
       "      <td>4.005657</td>\n",
       "      <td>6630400.0</td>\n",
       "    </tr>\n",
       "  </tbody>\n",
       "</table>\n",
       "</div>"
      ],
      "text/plain": [
       "            Open        High         Low       Close   Adj Close      Volume\n",
       "5602  575.500000  577.525024  567.174988  569.299988  517.117676   5083608.0\n",
       "3329  140.000000  142.250000  136.256256  137.787506  105.979141  13738152.0\n",
       "5299  485.024994  493.049988  485.024994  492.325012  434.382355   5941662.0\n",
       "3531  286.000000  286.000000  276.375000  281.981262  218.684143   8163800.0\n",
       "451     5.546875    5.815429    5.546875    5.746289    4.005657   6630400.0"
      ]
     },
     "execution_count": 373,
     "metadata": {},
     "output_type": "execute_result"
    }
   ],
   "source": [
    "# taking significant features and dropping remaining features\n",
    "data_frame = data_frame.drop(['Date'], axis=1)\n",
    "data_frame.sample(5)"
   ]
  },
  {
   "cell_type": "code",
   "execution_count": 374,
   "metadata": {},
   "outputs": [],
   "source": [
    "# using sklearn MinMaxScaler for scaling values between [0 - 1]\n",
    "from sklearn.preprocessing import MinMaxScaler\n",
    "\n",
    "scaler = MinMaxScaler()\n",
    "data_frame_scaled = scaler.fit_transform(data_frame.to_numpy())\n",
    "\n",
    "\n",
    "data_frame_scaled = pd.DataFrame(data_frame_scaled, columns=[\n",
    "    'Open', 'High', 'Low', 'Close', 'Adj Close', 'Volume'\n",
    "])"
   ]
  },
  {
   "cell_type": "code",
   "execution_count": 375,
   "metadata": {},
   "outputs": [
    {
     "data": {
      "text/html": [
       "<div>\n",
       "<style scoped>\n",
       "    .dataframe tbody tr th:only-of-type {\n",
       "        vertical-align: middle;\n",
       "    }\n",
       "\n",
       "    .dataframe tbody tr th {\n",
       "        vertical-align: top;\n",
       "    }\n",
       "\n",
       "    .dataframe thead th {\n",
       "        text-align: right;\n",
       "    }\n",
       "</style>\n",
       "<table border=\"1\" class=\"dataframe\">\n",
       "  <thead>\n",
       "    <tr style=\"text-align: right;\">\n",
       "      <th></th>\n",
       "      <th>Open</th>\n",
       "      <th>High</th>\n",
       "      <th>Low</th>\n",
       "      <th>Close</th>\n",
       "      <th>Adj Close</th>\n",
       "      <th>Volume</th>\n",
       "    </tr>\n",
       "  </thead>\n",
       "  <tbody>\n",
       "    <tr>\n",
       "      <th>1691</th>\n",
       "      <td>0.027251</td>\n",
       "      <td>0.027096</td>\n",
       "      <td>0.027095</td>\n",
       "      <td>0.026997</td>\n",
       "      <td>0.019109</td>\n",
       "      <td>0.147067</td>\n",
       "    </tr>\n",
       "    <tr>\n",
       "      <th>6355</th>\n",
       "      <td>0.767405</td>\n",
       "      <td>0.763052</td>\n",
       "      <td>0.775313</td>\n",
       "      <td>0.761089</td>\n",
       "      <td>0.752991</td>\n",
       "      <td>0.027572</td>\n",
       "    </tr>\n",
       "    <tr>\n",
       "      <th>3530</th>\n",
       "      <td>0.153958</td>\n",
       "      <td>0.152235</td>\n",
       "      <td>0.156721</td>\n",
       "      <td>0.153269</td>\n",
       "      <td>0.118885</td>\n",
       "      <td>0.000000</td>\n",
       "    </tr>\n",
       "    <tr>\n",
       "      <th>5818</th>\n",
       "      <td>0.374709</td>\n",
       "      <td>0.373410</td>\n",
       "      <td>0.377072</td>\n",
       "      <td>0.374844</td>\n",
       "      <td>0.346969</td>\n",
       "      <td>0.044401</td>\n",
       "    </tr>\n",
       "    <tr>\n",
       "      <th>5533</th>\n",
       "      <td>0.262038</td>\n",
       "      <td>0.271132</td>\n",
       "      <td>0.265795</td>\n",
       "      <td>0.270913</td>\n",
       "      <td>0.246140</td>\n",
       "      <td>0.056712</td>\n",
       "    </tr>\n",
       "  </tbody>\n",
       "</table>\n",
       "</div>"
      ],
      "text/plain": [
       "          Open      High       Low     Close  Adj Close    Volume\n",
       "1691  0.027251  0.027096  0.027095  0.026997   0.019109  0.147067\n",
       "6355  0.767405  0.763052  0.775313  0.761089   0.752991  0.027572\n",
       "3530  0.153958  0.152235  0.156721  0.153269   0.118885  0.000000\n",
       "5818  0.374709  0.373410  0.377072  0.374844   0.346969  0.044401\n",
       "5533  0.262038  0.271132  0.265795  0.270913   0.246140  0.056712"
      ]
     },
     "execution_count": 375,
     "metadata": {},
     "output_type": "execute_result"
    }
   ],
   "source": [
    "# viewing scaled data frame\n",
    "data_frame_scaled.sample(5)"
   ]
  },
  {
   "cell_type": "code",
   "execution_count": 376,
   "metadata": {},
   "outputs": [],
   "source": [
    "# checking for null values and removing it\n",
    "data_frame_scaled.dropna(inplace=True)"
   ]
  },
  {
   "cell_type": "code",
   "execution_count": 377,
   "metadata": {},
   "outputs": [
    {
     "data": {
      "text/html": [
       "<div>\n",
       "<style scoped>\n",
       "    .dataframe tbody tr th:only-of-type {\n",
       "        vertical-align: middle;\n",
       "    }\n",
       "\n",
       "    .dataframe tbody tr th {\n",
       "        vertical-align: top;\n",
       "    }\n",
       "\n",
       "    .dataframe thead th {\n",
       "        text-align: right;\n",
       "    }\n",
       "</style>\n",
       "<table border=\"1\" class=\"dataframe\">\n",
       "  <thead>\n",
       "    <tr style=\"text-align: right;\">\n",
       "      <th></th>\n",
       "      <th>Open</th>\n",
       "      <th>High</th>\n",
       "      <th>Low</th>\n",
       "      <th>Close</th>\n",
       "      <th>Adj Close</th>\n",
       "      <th>Volume</th>\n",
       "    </tr>\n",
       "  </thead>\n",
       "  <tbody>\n",
       "    <tr>\n",
       "      <th>1379</th>\n",
       "      <td>0.024236</td>\n",
       "      <td>0.023964</td>\n",
       "      <td>0.024695</td>\n",
       "      <td>0.024128</td>\n",
       "      <td>0.016943</td>\n",
       "      <td>0.000000</td>\n",
       "    </tr>\n",
       "    <tr>\n",
       "      <th>2389</th>\n",
       "      <td>0.076789</td>\n",
       "      <td>0.075929</td>\n",
       "      <td>0.075901</td>\n",
       "      <td>0.074430</td>\n",
       "      <td>0.054479</td>\n",
       "      <td>0.042515</td>\n",
       "    </tr>\n",
       "    <tr>\n",
       "      <th>3172</th>\n",
       "      <td>0.113326</td>\n",
       "      <td>0.116005</td>\n",
       "      <td>0.114175</td>\n",
       "      <td>0.115979</td>\n",
       "      <td>0.087290</td>\n",
       "      <td>0.066325</td>\n",
       "    </tr>\n",
       "    <tr>\n",
       "      <th>6115</th>\n",
       "      <td>0.358054</td>\n",
       "      <td>0.360594</td>\n",
       "      <td>0.355294</td>\n",
       "      <td>0.351785</td>\n",
       "      <td>0.339778</td>\n",
       "      <td>0.054862</td>\n",
       "    </tr>\n",
       "    <tr>\n",
       "      <th>6310</th>\n",
       "      <td>0.739747</td>\n",
       "      <td>0.753972</td>\n",
       "      <td>0.751738</td>\n",
       "      <td>0.755159</td>\n",
       "      <td>0.747126</td>\n",
       "      <td>0.074214</td>\n",
       "    </tr>\n",
       "  </tbody>\n",
       "</table>\n",
       "</div>"
      ],
      "text/plain": [
       "          Open      High       Low     Close  Adj Close    Volume\n",
       "1379  0.024236  0.023964  0.024695  0.024128   0.016943  0.000000\n",
       "2389  0.076789  0.075929  0.075901  0.074430   0.054479  0.042515\n",
       "3172  0.113326  0.116005  0.114175  0.115979   0.087290  0.066325\n",
       "6115  0.358054  0.360594  0.355294  0.351785   0.339778  0.054862\n",
       "6310  0.739747  0.753972  0.751738  0.755159   0.747126  0.074214"
      ]
     },
     "execution_count": 377,
     "metadata": {},
     "output_type": "execute_result"
    }
   ],
   "source": [
    "data_frame_scaled.sample(5)"
   ]
  },
  {
   "cell_type": "code",
   "execution_count": 378,
   "metadata": {},
   "outputs": [],
   "source": [
    "# saving the dataframe as csv to check for dataset properly if anything else is needed to clean\n",
    "df_to_csv_file_path = os.path.join(config.BASE_DIR, 'dataset', 'df_to_csv_final.csv')\n",
    "data_frame_scaled.to_csv(df_to_csv_file_path)"
   ]
  },
  {
   "cell_type": "markdown",
   "metadata": {},
   "source": [
    "#### **Plotting the Data Frame Column**"
   ]
  },
  {
   "cell_type": "code",
   "execution_count": 379,
   "metadata": {},
   "outputs": [
    {
     "data": {
      "image/png": "[encoded data removed]",
      "text/plain": [
       "<Figure size 1500x1000 with 1 Axes>"
      ]
     },
     "metadata": {},
     "output_type": "display_data"
    }
   ],
   "source": [
    "# Plotting the data for visualization\n",
    "plt.figure(figsize=(15, 10))\n",
    "\n",
    "# plt.plot(data_frame_scaled.index, data_frame_scaled['Open'], label='Open')\n",
    "# plt.plot(data_frame_scaled.index, data_frame_scaled['High'], label='High')\n",
    "# plt.plot(data_frame_scaled.index, data_frame_scaled['Low'], label='Low')\n",
    "plt.plot(data_frame_scaled.index, data_frame_scaled['Close'], label='Close')\n",
    "# plt.plot(data_frame_scaled.index, data_frame_scaled['Adj Close'], label='Adj Close')\n",
    "# plt.plot(data_frame_scaled.index, data_frame_scaled['Volume'], label='Volume')\n",
    "\n",
    "plt.xlabel('Index')\n",
    "plt.ylabel('Values')\n",
    "plt.title('Close, Adj Close, and Volume Over Time')\n",
    "plt.legend()\n",
    "plt.grid(True)\n",
    "\n",
    "plt.show()"
   ]
  },
  {
   "cell_type": "code",
   "execution_count": 380,
   "metadata": {},
   "outputs": [
    {
     "data": {
      "text/plain": [
       "(6487, 6)"
      ]
     },
     "execution_count": 380,
     "metadata": {},
     "output_type": "execute_result"
    }
   ],
   "source": [
    "data_frame_scaled.shape"
   ]
  },
  {
   "cell_type": "markdown",
   "metadata": {},
   "source": [
    "#### **Converting Pandas Data Frame to Numpy Array**"
   ]
  },
  {
   "cell_type": "code",
   "execution_count": 381,
   "metadata": {},
   "outputs": [],
   "source": [
    "data_frame_scaled = data_frame_scaled.to_numpy()"
   ]
  },
  {
   "cell_type": "code",
   "execution_count": 382,
   "metadata": {},
   "outputs": [
    {
     "data": {
      "text/plain": [
       "array([0.16007249, 0.15828186, 0.1582365 , 0.15566398, 0.12412479,\n",
       "       0.0447991 ])"
      ]
     },
     "execution_count": 382,
     "metadata": {},
     "output_type": "execute_result"
    }
   ],
   "source": [
    "# viewing the converted pandas frame to numpy\n",
    "data_frame_scaled[4000]"
   ]
  },
  {
   "cell_type": "code",
   "execution_count": 383,
   "metadata": {},
   "outputs": [
    {
     "data": {
      "text/plain": [
       "numpy.ndarray"
      ]
     },
     "execution_count": 383,
     "metadata": {},
     "output_type": "execute_result"
    }
   ],
   "source": [
    "# viewing the type of numpy\n",
    "type(data_frame_scaled)"
   ]
  },
  {
   "cell_type": "code",
   "execution_count": 384,
   "metadata": {},
   "outputs": [
    {
     "data": {
      "text/plain": [
       "(6487, 6)"
      ]
     },
     "execution_count": 384,
     "metadata": {},
     "output_type": "execute_result"
    }
   ],
   "source": [
    "# viewing the shape\n",
    "data_frame_scaled.shape"
   ]
  },
  {
   "cell_type": "code",
   "execution_count": 392,
   "metadata": {},
   "outputs": [],
   "source": [
    "import numpy as np\n",
    "import pandas as pd\n",
    "from sklearn.model_selection import train_test_split\n",
    "from sklearn.ensemble import RandomForestRegressor\n",
    "from sklearn.metrics import mean_squared_error\n",
    "import matplotlib.pyplot as plt\n",
    "\n",
    "# Assume 'data_frame_scaled' is your numpy array (6487, 6)\n",
    "# Load the data into a DataFrame to handle it easily\n",
    "columns = ['Open', 'High', 'Low', 'Close', 'Adj Close', 'Volume']\n",
    "df = pd.DataFrame(data_frame_scaled, columns=columns)\n",
    "\n",
    "# Split the data into features and target variable\n",
    "X = df[['Open', 'High', 'Low', 'Adj Close', 'Volume']]\n",
    "y = df['Close']\n",
    "\n",
    "# Split the dataset into training and testing sets\n",
    "X_train, X_test, y_train, y_test = train_test_split(X, y, test_size=0.2)\n",
    "\n",
    "# Choose a model, here we'll use RandomForestRegressor for better performance\n",
    "model = RandomForestRegressor(n_estimators=100, random_state=42)\n",
    "\n",
    "# Train the model\n",
    "model.fit(X_train, y_train)\n",
    "\n",
    "# Make predictions\n",
    "y_pred = model.predict(X_test)"
   ]
  },
  {
   "cell_type": "code",
   "execution_count": 393,
   "metadata": {},
   "outputs": [
    {
     "data": {
      "image/png": "[encoded data removed]",
      "text/plain": [
       "<Figure size 1400x700 with 1 Axes>"
      ]
     },
     "metadata": {},
     "output_type": "display_data"
    }
   ],
   "source": [
    "# Plot actual vs predicted close prices\n",
    "plt.figure(figsize=(14, 7))\n",
    "plt.plot(y_test.values, label='Actual Close Price', color='b', linestyle='-')  # Line for actual values\n",
    "plt.plot(y_pred, label='Predicted Close Price', color='r', linestyle='-')  # Line for predicted values\n",
    "plt.xlabel('Index')\n",
    "plt.ylabel('Close Price')\n",
    "plt.title('Actual vs Predicted Close Price')\n",
    "plt.legend()\n",
    "plt.show()"
   ]
  },
  {
   "cell_type": "markdown",
   "metadata": {},
   "source": [
    "#### **Spliting Data into Train & Test**"
   ]
  },
  {
   "cell_type": "code",
   "execution_count": null,
   "metadata": {},
   "outputs": [],
   "source": [
    "import numpy as np\n",
    "\n",
    "# Assuming data_frame_scaled is already defined as a numpy array with shape (6487, 6)\n",
    "data_frame_scaled = np.random.rand(6487, 6)  # This line is just an example for creating a dummy array\n",
    "\n",
    "train_size = int(len(data_frame_scaled) * 0.9)\n",
    "train, test = data_frame_scaled[:train_size], data_frame_scaled[train_size:]\n",
    "\n",
    "print(train.shape, test.shape)"
   ]
  },
  {
   "cell_type": "code",
   "execution_count": null,
   "metadata": {},
   "outputs": [],
   "source": [
    "# Separating 'Close' column from the rest of the data\n",
    "train_data = train[:, :-1]  # All columns except the last one\n",
    "train_close = train[:, -1].reshape(-1, 1)  # The last column\n",
    "\n",
    "test_data = test[:, :-1]  # All columns except the last one\n",
    "test_close = test[:, -1].reshape(-1, 1)  # The last column\n",
    "\n",
    "# Scaling the data\n",
    "rs_data = MinMaxScaler()\n",
    "rs_target = MinMaxScaler()\n",
    "\n",
    "train_data_scaled = rs_data.fit_transform(train_data)\n",
    "train_close_scaled = rs_target.fit_transform(train_close)\n",
    "\n",
    "test_data_scaled = rs_data.transform(test_data)\n",
    "test_close_scaled = rs_target.transform(test_close)\n",
    "\n",
    "# Combining the scaled data back\n",
    "train_scaled = np.hstack((train_data_scaled, train_close_scaled))\n",
    "test_scaled = np.hstack((test_data_scaled, test_close_scaled))\n",
    "\n",
    "print(train_scaled.shape, test_scaled.shape)"
   ]
  },
  {
   "cell_type": "code",
   "execution_count": null,
   "metadata": {},
   "outputs": [],
   "source": [
    "def create_dataset(X, y, time_steps=1):\n",
    "    Xs, ys = [], []\n",
    "    for i in range(len(X) - time_steps):\n",
    "        v = X[i:(i + time_steps)]\n",
    "        Xs.append(v)\n",
    "        ys.append(y[i + time_steps])\n",
    "    return np.array(Xs), np.array(ys)\n",
    "\n",
    "# Define time_steps\n",
    "time_steps = 5\n",
    "\n",
    "# Separate the features and target from the scaled train and test sets\n",
    "train_features = train_scaled[:, :-1]\n",
    "train_close = train_scaled[:, -1]\n",
    "\n",
    "test_features = test_scaled[:, :-1]\n",
    "test_close = test_scaled[:, -1]\n",
    "\n",
    "# Create datasets\n",
    "x_train, y_train = create_dataset(train_features, train_close, time_steps)\n",
    "x_test, y_test = create_dataset(test_features, test_close, time_steps)\n",
    "\n",
    "print(x_train.shape, x_test.shape)"
   ]
  },
  {
   "cell_type": "code",
   "execution_count": null,
   "metadata": {},
   "outputs": [],
   "source": [
    "import keras\n",
    "from keras.models import Sequential\n",
    "from keras.layers import Conv1D, Bidirectional, LSTM, Dropout, Dense\n",
    "\n",
    "model = Sequential()\n",
    "model.add(Conv1D(filters=32, kernel_size=5,\n",
    "                 strides=1, padding=\"causal\",\n",
    "                 activation=\"relu\",\n",
    "                 input_shape=(x_train.shape[1], x_train.shape[2])))\n",
    "model.add(Bidirectional(LSTM(units=128, return_sequences=True)))\n",
    "model.add(Bidirectional(LSTM(units=500, return_sequences=True)))\n",
    "model.add(Bidirectional(LSTM(units=500)))\n",
    "model.add(Dropout(rate=0.25))\n",
    "model.add(Dense(units=100, activation='relu'))\n",
    "model.add(Dense(units=10, activation=\"relu\"))\n",
    "model.add(Dense(units=1))\n",
    "model.compile(loss=keras.losses.Huber(),  # You can use keras.losses.Huber() too\n",
    "              optimizer='adam',\n",
    "              metrics=[\"mse\"])\n",
    "\n",
    "# Print the model summary\n",
    "model.summary()"
   ]
  },
  {
   "cell_type": "code",
   "execution_count": null,
   "metadata": {},
   "outputs": [],
   "source": [
    "history = model.fit(\n",
    "    x_train, y_train,\n",
    "    epochs=10,\n",
    "    batch_size=32,\n",
    "    validation_split=0.35,\n",
    "    shuffle=False,\n",
    "    verbose=1\n",
    ")"
   ]
  },
  {
   "cell_type": "code",
   "execution_count": null,
   "metadata": {},
   "outputs": [],
   "source": [
    "# Predicting with the model\n",
    "pred = model.predict(x_test)\n",
    "\n",
    "# Reshape y_train and y_test for inverse transformation\n",
    "y_train_inv = rs_target.inverse_transform(y_train.reshape(-1, 1))\n",
    "y_test_inv = rs_target.inverse_transform(y_test.reshape(-1, 1))\n",
    "\n",
    "# Reshape predictions for inverse transformation\n",
    "pred_inv = rs_target.inverse_transform(pred.reshape(-1, 1))\n",
    "\n",
    "# Flatten the arrays for further use if needed\n",
    "y_train_inv = y_train_inv.flatten()\n",
    "y_test_inv = y_test_inv.flatten()\n",
    "pred_inv = pred_inv.flatten()"
   ]
  },
  {
   "cell_type": "code",
   "execution_count": null,
   "metadata": {},
   "outputs": [],
   "source": [
    "import matplotlib.pyplot as plt\n",
    "\n",
    "# Plot the true and predicted values\n",
    "plt.plot(y_test_inv, marker='.', label='True')\n",
    "plt.plot(pred_inv, 'r', marker='.', label='Predicted')\n",
    "plt.legend()\n",
    "plt.show()\n"
   ]
  },
  {
   "cell_type": "markdown",
   "metadata": {},
   "source": [
    "#### **Prepare Data for LSTM Model**"
   ]
  },
  {
   "cell_type": "code",
   "execution_count": null,
   "metadata": {},
   "outputs": [],
   "source": []
  },
  {
   "cell_type": "code",
   "execution_count": null,
   "metadata": {},
   "outputs": [],
   "source": []
  },
  {
   "cell_type": "markdown",
   "metadata": {},
   "source": [
    "#### **Build & Compile LSTM Model**"
   ]
  },
  {
   "cell_type": "code",
   "execution_count": null,
   "metadata": {},
   "outputs": [],
   "source": []
  },
  {
   "cell_type": "code",
   "execution_count": null,
   "metadata": {},
   "outputs": [],
   "source": []
  },
  {
   "cell_type": "code",
   "execution_count": null,
   "metadata": {},
   "outputs": [],
   "source": []
  },
  {
   "cell_type": "markdown",
   "metadata": {},
   "source": [
    "#### **Predicting 'Close' price for the next day, next 7 days, and next 14 days** "
   ]
  },
  {
   "cell_type": "code",
   "execution_count": null,
   "metadata": {},
   "outputs": [],
   "source": []
  },
  {
   "cell_type": "code",
   "execution_count": null,
   "metadata": {},
   "outputs": [],
   "source": []
  },
  {
   "cell_type": "code",
   "execution_count": null,
   "metadata": {},
   "outputs": [],
   "source": []
  },
  {
   "cell_type": "code",
   "execution_count": null,
   "metadata": {},
   "outputs": [],
   "source": []
  },
  {
   "cell_type": "markdown",
   "metadata": {},
   "source": [
    "### **Old Approach**"
   ]
  },
  {
   "cell_type": "markdown",
   "metadata": {},
   "source": [
    "#### **Creating Logic to Remember Previous 150 Records for LSTM**"
   ]
  },
  {
   "cell_type": "code",
   "execution_count": null,
   "metadata": {},
   "outputs": [],
   "source": [
    "# Create sequences of 100 records\n",
    "sequence_length = 150\n",
    "x = []\n",
    "y = []\n",
    "\n",
    "for i in range(len(data_frame_scaled) - sequence_length):\n",
    "    x.append(data_frame_scaled[i:i+sequence_length])\n",
    "    y.append(data_frame_scaled[i+sequence_length, 0])  # Predicting the \"Close\" value\n",
    "\n",
    "x = np.array(x)\n",
    "y = np.array(y)"
   ]
  },
  {
   "cell_type": "markdown",
   "metadata": {},
   "source": [
    "#### **Splitting Numpy Array in Train, Test Set**"
   ]
  },
  {
   "cell_type": "code",
   "execution_count": null,
   "metadata": {},
   "outputs": [],
   "source": [
    "# Split data into training and testing sets\n",
    "split = int(len(x) * 0.8)\n",
    "x_train, x_test = x[:split], x[split:]      # from 0 till split, it goes to train and the rest goes to test\n",
    "y_train, y_test = y[:split], y[split:]      # from 0 till split, it goes to train and the rest goes to test"
   ]
  },
  {
   "cell_type": "code",
   "execution_count": null,
   "metadata": {},
   "outputs": [],
   "source": [
    "# viewing shape of x_train, x_test, y_train, y_test\n",
    "print(\"x_train.shape\", x_train.shape)\n",
    "print(\"x_test.shape\", x_test.shape)\n",
    "print(\"y_train.shape\", y_train.shape)\n",
    "print(\"y_test.shape\", y_test.shape)"
   ]
  },
  {
   "cell_type": "markdown",
   "metadata": {},
   "source": [
    "### **XGBoost Regressor Model (Boosting Algorithm)**"
   ]
  },
  {
   "cell_type": "code",
   "execution_count": null,
   "metadata": {},
   "outputs": [],
   "source": [
    "# loading the preprocessed data from \"df_to_csv_final.csv\"\n",
    "data_file_path = os.path.join(config.BASE_DIR, 'dataset', 'df_to_csv_final.csv')\n",
    "dataframe_xgboost = pd.read_csv(data_file_path)\n",
    "dataframe_xgboost.sample(5)"
   ]
  },
  {
   "cell_type": "code",
   "execution_count": null,
   "metadata": {},
   "outputs": [],
   "source": [
    "X_xg = dataframe_xgboost.drop(columns=['Close'])\n",
    "y_xg = dataframe_xgboost['Close']"
   ]
  },
  {
   "cell_type": "code",
   "execution_count": null,
   "metadata": {},
   "outputs": [],
   "source": [
    "# splitting the data frame into train, test\n",
    "from sklearn.model_selection import train_test_split\n",
    "\n",
    "X_xg_train, X_xg_test, y_xg_train, y_xg_test = train_test_split(X_xg, y_xg, test_size=0.2, random_state=42)"
   ]
  },
  {
   "cell_type": "code",
   "execution_count": null,
   "metadata": {},
   "outputs": [],
   "source": [
    "# Using the XGBoost model\n",
    "import xgboost as xgb\n",
    "\n",
    "# Initialize the model\n",
    "xgb_model = xgb.XGBRegressor(objective='reg:squarederror', n_estimators=50, learning_rate=0.05)\n",
    "\n",
    "# Train the model\n",
    "xgb_model.fit(X_xg_train, y_xg_train)"
   ]
  },
  {
   "cell_type": "markdown",
   "metadata": {},
   "source": [
    "#### **Making the Prediction**"
   ]
  },
  {
   "cell_type": "code",
   "execution_count": null,
   "metadata": {},
   "outputs": [],
   "source": [
    "# Make predictions\n",
    "y_xg_pred = xgb_model.predict(X_xg_test)\n",
    "y_xg_pred"
   ]
  },
  {
   "cell_type": "code",
   "execution_count": null,
   "metadata": {},
   "outputs": [],
   "source": [
    "# Create the line chart\n",
    "plt.figure(figsize=(10, 5))\n",
    "plt.plot(y_xg_test, color='blue', label='Actual Values')\n",
    "plt.plot(y_xg_pred, color='red', label='Predicted Values')\n",
    "\n",
    "# Adding title and labels\n",
    "plt.title('Actual vs Predicted Values')\n",
    "plt.xlabel('Index')\n",
    "plt.ylabel('Values')\n",
    "\n",
    "# Adding legend\n",
    "plt.legend()\n",
    "\n",
    "# Display the chart\n",
    "plt.show()"
   ]
  },
  {
   "cell_type": "markdown",
   "metadata": {},
   "source": [
    "### **GRU (Gated Recurrent Unit) MODEL**"
   ]
  },
  {
   "cell_type": "markdown",
   "metadata": {},
   "source": [
    "#### **Defining GRU Model for Stock Prediction**"
   ]
  },
  {
   "cell_type": "code",
   "execution_count": null,
   "metadata": {},
   "outputs": [],
   "source": [
    "# creating GRU model using tensorflow\n",
    "import tensorflow as tf\n",
    "from tensorflow.keras.models import Sequential\n",
    "from tensorflow.keras.layers import GRU, Dense, Dropout\n",
    "\n",
    "model_gru = Sequential()\n",
    "model_gru.add(GRU(units=50, return_sequences=True, input_shape=(sequence_length, x.shape[2])))\n",
    "model_gru.add(GRU(units=50, return_sequences=True))\n",
    "model_gru.add(GRU(units=50, return_sequences=False))\n",
    "model_gru.add(Dense(units=1))\n",
    "\n",
    "model_gru.compile(optimizer='adam', loss='mean_squared_error', metrics=['mae'])"
   ]
  },
  {
   "cell_type": "code",
   "execution_count": null,
   "metadata": {},
   "outputs": [],
   "source": [
    "model_gru.summary()"
   ]
  },
  {
   "cell_type": "code",
   "execution_count": null,
   "metadata": {},
   "outputs": [],
   "source": [
    "# fitting the train data into model\n",
    "history_gru = model_gru.fit(x_train, y_train, epochs=50, batch_size=32, validation_data=(x_test, y_test))"
   ]
  },
  {
   "cell_type": "code",
   "execution_count": null,
   "metadata": {},
   "outputs": [],
   "source": [
    "# Plot training & validation loss values\n",
    "plt.figure(figsize=(12, 4))\n",
    "plt.subplot(1, 2, 1)\n",
    "plt.plot(history_gru.history['loss'], label='Train Loss')\n",
    "plt.plot(history_gru.history['val_loss'], label='Validation Loss')\n",
    "plt.title('Model Loss')\n",
    "plt.xlabel('Epoch')\n",
    "plt.ylabel('Loss')\n",
    "plt.legend()\n",
    "\n",
    "# Plot training & validation MAE values\n",
    "plt.subplot(1, 2, 2)\n",
    "plt.plot(history_gru.history['mae'], label='Train MAE')\n",
    "plt.plot(history_gru.history['val_mae'], label='Validation MAE')\n",
    "plt.title('Model MAE')\n",
    "plt.xlabel('Epoch')\n",
    "plt.ylabel('Mean Absolute Error')\n",
    "plt.legend()\n",
    "\n",
    "plt.show()"
   ]
  },
  {
   "cell_type": "markdown",
   "metadata": {},
   "source": [
    "#### **Saving The Model (Both Pickle and H5 File)**"
   ]
  },
  {
   "cell_type": "code",
   "execution_count": null,
   "metadata": {},
   "outputs": [],
   "source": [
    "import pickle\n",
    "import h5py\n",
    "\n",
    "def save_model(model_gru, pickle_filename, h5_filename):\n",
    "    # Save as pickle\n",
    "    with open(pickle_filename, 'wb') as f:\n",
    "        pickle.dump(model_gru, f)\n",
    "    \n",
    "    # Save as HDF5\n",
    "    model_gru.save(h5_filename)\n",
    "\n",
    "pickle_file_path_gru = os.path.join(config.BASE_DIR, 'models', 'model_gru.pkl')\n",
    "h5_file_path_gru = os.path.join(config.BASE_DIR, 'models', 'model_gru.h5')\n",
    "\n",
    "# Save the model\n",
    "save_model(model_gru, pickle_file_path_gru, h5_file_path_gru)"
   ]
  },
  {
   "cell_type": "markdown",
   "metadata": {},
   "source": [
    "#### **Load GRU Pickle Model**"
   ]
  },
  {
   "cell_type": "code",
   "execution_count": null,
   "metadata": {},
   "outputs": [],
   "source": [
    "def load_model_from_pickle(pickle_file_path):\n",
    "    with open(pickle_file_path, 'rb') as f:\n",
    "        model = pickle.load(f)\n",
    "    return model\n",
    "\n",
    "# Load model from pickle file\n",
    "model_gru_pickle = load_model_from_pickle(pickle_file_path_gru)"
   ]
  },
  {
   "cell_type": "markdown",
   "metadata": {},
   "source": [
    "#### **Load GRU H5 Model**"
   ]
  },
  {
   "cell_type": "code",
   "execution_count": null,
   "metadata": {},
   "outputs": [],
   "source": [
    "def load_model_from_h5(h5_file_path):\n",
    "    return h5py.File(h5_file_path, 'r')\n",
    "\n",
    "# Load model from HDF5 file\n",
    "model_gru_h5 = load_model_from_h5(h5_file_path_gru)"
   ]
  },
  {
   "cell_type": "markdown",
   "metadata": {},
   "source": [
    "#### **Making Predictions**"
   ]
  },
  {
   "cell_type": "code",
   "execution_count": null,
   "metadata": {},
   "outputs": [],
   "source": [
    "# Make predictions\n",
    "predictions = model_gru_pickle.predict(x_test)\n",
    "predictions"
   ]
  },
  {
   "cell_type": "code",
   "execution_count": null,
   "metadata": {},
   "outputs": [],
   "source": [
    "# Inverse the normalization if needed (assuming you have a scaler)\n",
    "# predictions = scaler.inverse_transform(predictions.reshape(-1, 1))\n",
    "# y_test = scaler.inverse_transform(y_test.reshape(-1, 1))\n",
    "\n",
    "# Evaluate the performance\n",
    "plt.figure(figsize=(10, 8))\n",
    "plt.plot(y_test, color='blue', label='Actual Stock Price')\n",
    "plt.plot(predictions, color='red', label='Predicted Stock Price')\n",
    "plt.title('Stock Price Prediction')\n",
    "plt.xlabel('Time')\n",
    "plt.ylabel('Stock Price')\n",
    "plt.legend()\n",
    "plt.show()"
   ]
  },
  {
   "cell_type": "markdown",
   "metadata": {},
   "source": [
    "#### **Predict The Next Week Values**"
   ]
  },
  {
   "cell_type": "code",
   "execution_count": null,
   "metadata": {},
   "outputs": [],
   "source": [
    "# viewing all the variables that we need to work with to predict the next value\n",
    "print(x_test.shape)\n",
    "print(y_test.shape)\n",
    "print(predictions.shape)"
   ]
  },
  {
   "cell_type": "code",
   "execution_count": null,
   "metadata": {},
   "outputs": [],
   "source": [
    "# Get the last sequence from the test data\n",
    "last_sequence_gru = x_test[-1]  # shape (150, 3)\n",
    "\n",
    "# Create an empty list to store the predicted values\n",
    "predicted_stock_prices_gru = []"
   ]
  },
  {
   "cell_type": "code",
   "execution_count": null,
   "metadata": {},
   "outputs": [],
   "source": [
    "# Predict the stock price for the next 30 days\n",
    "for _ in range(365):\n",
    "    # Reshape last_sequence to fit the model input shape (1, sequence_length, num_features)\n",
    "    last_sequence_reshaped_gru = np.reshape(last_sequence_gru, (1, last_sequence_gru.shape[0], last_sequence_gru.shape[1]))\n",
    "    \n",
    "    # Predict the next stock price\n",
    "    next_price_gru = model_gru.predict(last_sequence_reshaped_gru)\n",
    "    \n",
    "    # Append the predicted price to the predicted_stock_prices list\n",
    "    predicted_stock_prices_gru.append(next_price_gru[0, 0])\n",
    "    \n",
    "    # Prepare the next input sequence\n",
    "    # Remove the first element and add the new predicted price at the end\n",
    "    new_element_gru = np.array([next_price_gru[0, 0], last_sequence_gru[-1, 1], last_sequence_gru[-1, 2]])  # assuming 3 features\n",
    "    last_sequence_gru = np.vstack((last_sequence_gru[1:], new_element_gru))\n",
    "\n",
    "# Convert predicted_stock_prices list to a numpy array\n",
    "predicted_stock_prices_gru = np.array(predicted_stock_prices_gru)\n",
    "\n",
    "print(predicted_stock_prices_gru)"
   ]
  },
  {
   "cell_type": "code",
   "execution_count": null,
   "metadata": {},
   "outputs": [],
   "source": [
    "# Plot the actual test predictions and the predicted next 30 days\n",
    "plt.figure(figsize=(15, 20))\n",
    "plt.plot(range(len(y_test)), y_test, color='blue', label='Actual Test Data')\n",
    "plt.plot(range(len(y_test), len(y_test) + len(predicted_stock_prices_gru)), predicted_stock_prices_gru, color='red', label='Predicted Next 30 Days')\n",
    "plt.xlabel('Time')\n",
    "plt.ylabel('Stock Price')\n",
    "plt.title('Stock Price Prediction')\n",
    "plt.legend()\n",
    "plt.show()"
   ]
  },
  {
   "cell_type": "markdown",
   "metadata": {},
   "source": [
    "### **LSTM MODEL**"
   ]
  },
  {
   "cell_type": "markdown",
   "metadata": {},
   "source": [
    "#### **Defining LSTM (Long-Short-Term-Memory) Model for Stock Prediction**"
   ]
  },
  {
   "cell_type": "code",
   "execution_count": null,
   "metadata": {},
   "outputs": [],
   "source": [
    "# creating lstm model using tensorflow\n",
    "import tensorflow as tf\n",
    "from tensorflow.keras.models import Sequential\n",
    "from tensorflow.keras.layers import LSTM, Dense, Dropout\n",
    "\n",
    "model_lstm = Sequential()\n",
    "model_lstm.add(LSTM(units=50, return_sequences=True, input_shape=(sequence_length, x.shape[2])))\n",
    "model_lstm.add(LSTM(units=50, return_sequences=True))\n",
    "model_lstm.add(LSTM(units=50, return_sequences=False))\n",
    "model_lstm.add(Dense(units=1))\n",
    "\n",
    "model_lstm.compile(optimizer='adam', loss='mean_squared_error', metrics=['mae'])"
   ]
  },
  {
   "cell_type": "code",
   "execution_count": null,
   "metadata": {},
   "outputs": [],
   "source": [
    "# viewing the summary of the model\n",
    "model_lstm.summary()"
   ]
  },
  {
   "cell_type": "code",
   "execution_count": null,
   "metadata": {},
   "outputs": [],
   "source": [
    "# fitting the train data into model\n",
    "history_lstm = model_lstm.fit(x_train, y_train, epochs=50, batch_size=32, validation_data=(x_test, y_test))"
   ]
  },
  {
   "cell_type": "code",
   "execution_count": null,
   "metadata": {},
   "outputs": [],
   "source": [
    "# Plot training & validation loss values\n",
    "plt.figure(figsize=(12, 4))\n",
    "plt.subplot(1, 2, 1)\n",
    "plt.plot(history_lstm.history['loss'], label='Train Loss')\n",
    "plt.plot(history_lstm.history['val_loss'], label='Validation Loss')\n",
    "plt.title('Model Loss')\n",
    "plt.xlabel('Epoch')\n",
    "plt.ylabel('Loss')\n",
    "plt.legend()\n",
    "\n",
    "# Plot training & validation MAE values\n",
    "plt.subplot(1, 2, 2)\n",
    "plt.plot(history_lstm.history['mae'], label='Train MAE')\n",
    "plt.plot(history_lstm.history['val_mae'], label='Validation MAE')\n",
    "plt.title('Model MAE')\n",
    "plt.xlabel('Epoch')\n",
    "plt.ylabel('Mean Absolute Error')\n",
    "plt.legend()\n",
    "\n",
    "plt.show()"
   ]
  },
  {
   "cell_type": "markdown",
   "metadata": {},
   "source": [
    "#### **Saving The Model (Both Pickle and H5 File)**"
   ]
  },
  {
   "cell_type": "code",
   "execution_count": null,
   "metadata": {},
   "outputs": [],
   "source": [
    "import pickle\n",
    "import h5py\n",
    "\n",
    "def save_model(model, pickle_filename, h5_filename):\n",
    "    # Save as pickle\n",
    "    with open(pickle_filename, 'wb') as f:\n",
    "        pickle.dump(model, f)\n",
    "    \n",
    "    # Save as HDF5\n",
    "    model.save(h5_filename)\n",
    "\n",
    "pickle_file_path_lstm = os.path.join(config.BASE_DIR, 'models', 'model_lstm.pkl')\n",
    "h5_file_path_lstm = os.path.join(config.BASE_DIR, 'models', 'model_lstm.h5')\n",
    "\n",
    "# Save the model\n",
    "save_model(model_lstm, pickle_file_path_lstm, h5_file_path_lstm)"
   ]
  },
  {
   "cell_type": "markdown",
   "metadata": {},
   "source": [
    "#### **Load LSTM Pickle Model**"
   ]
  },
  {
   "cell_type": "code",
   "execution_count": null,
   "metadata": {},
   "outputs": [],
   "source": [
    "def load_model_from_pickle(pickle_file_path):\n",
    "    with open(pickle_file_path, 'rb') as f:\n",
    "        model = pickle.load(f)\n",
    "    return model\n",
    "\n",
    "# Load model from pickle file\n",
    "model_lstm_pickle = load_model_from_pickle(pickle_file_path_lstm)\n"
   ]
  },
  {
   "cell_type": "markdown",
   "metadata": {},
   "source": [
    "#### **Load LSTM H5 Model**"
   ]
  },
  {
   "cell_type": "code",
   "execution_count": null,
   "metadata": {},
   "outputs": [],
   "source": [
    "def load_model_from_h5(h5_file_path):\n",
    "    return h5py.File(h5_file_path, 'r')\n",
    "\n",
    "# Load model from HDF5 file\n",
    "model_lstm_h5 = load_model_from_h5(h5_file_path_lstm)"
   ]
  },
  {
   "cell_type": "markdown",
   "metadata": {},
   "source": [
    "#### **Making Predictions**"
   ]
  },
  {
   "cell_type": "code",
   "execution_count": null,
   "metadata": {},
   "outputs": [],
   "source": [
    "# Make predictions\n",
    "predictions_lstm = model_lstm_pickle.predict(x_test)\n",
    "predictions_lstm"
   ]
  },
  {
   "cell_type": "code",
   "execution_count": null,
   "metadata": {},
   "outputs": [],
   "source": [
    "# Inverse the normalization if needed (assuming you have a scaler)\n",
    "# predictions = scaler.inverse_transform(predictions.reshape(-1, 1))\n",
    "# y_test = scaler.inverse_transform(y_test.reshape(-1, 1))\n",
    "\n",
    "# Evaluate the performance\n",
    "plt.figure(figsize=(10, 8))\n",
    "plt.plot(y_test, color='blue', label='Actual Stock Price')\n",
    "plt.plot(predictions_lstm, color='red', label='Predicted Stock Price')\n",
    "plt.title('Stock Price Prediction')\n",
    "plt.xlabel('Time')\n",
    "plt.ylabel('Stock Price')\n",
    "plt.legend()\n",
    "plt.show()"
   ]
  },
  {
   "cell_type": "markdown",
   "metadata": {},
   "source": [
    "#### **Predict The Next Week Values**"
   ]
  },
  {
   "cell_type": "code",
   "execution_count": null,
   "metadata": {},
   "outputs": [],
   "source": [
    "# viewing all the variables that we need to work with to predict the next value\n",
    "print(x_test.shape)\n",
    "print(y_test.shape)\n",
    "print(predictions_lstm.shape)"
   ]
  },
  {
   "cell_type": "code",
   "execution_count": null,
   "metadata": {},
   "outputs": [],
   "source": [
    "# Get the last sequence from the test data\n",
    "last_sequence_lstm = x_test[-1]  # shape (150, 3)\n",
    "\n",
    "# Create an empty list to store the predicted values\n",
    "predicted_stock_prices_lstm = []"
   ]
  },
  {
   "cell_type": "code",
   "execution_count": null,
   "metadata": {},
   "outputs": [],
   "source": [
    "# Predict the stock price for the next 30 days\n",
    "for _ in range(365):\n",
    "    # Reshape last_sequence to fit the model input shape (1, sequence_length, num_features)\n",
    "    last_sequence_reshaped_lstm = np.reshape(last_sequence_lstm, (1, last_sequence_lstm.shape[0], last_sequence_lstm.shape[1]))\n",
    "    \n",
    "    # Predict the next stock price\n",
    "    next_price_lstm = model_lstm.predict(last_sequence_reshaped_lstm)\n",
    "    \n",
    "    # Append the predicted price to the predicted_stock_prices list\n",
    "    predicted_stock_prices_lstm.append(next_price_lstm[0, 0])\n",
    "    \n",
    "    # Prepare the next input sequence\n",
    "    # Remove the first element and add the new predicted price at the end\n",
    "    new_element_lstm = np.array([next_price_lstm[0, 0], last_sequence_lstm[-1, 1], last_sequence_lstm[-1, 2]])  # assuming 3 features\n",
    "    last_sequence_lstm = np.vstack((last_sequence_lstm[1:], new_element_lstm))\n",
    "\n",
    "# Convert predicted_stock_prices list to a numpy array\n",
    "predicted_stock_prices_lstm = np.array(predicted_stock_prices_lstm)\n",
    "\n",
    "print(predicted_stock_prices_lstm)"
   ]
  },
  {
   "cell_type": "code",
   "execution_count": null,
   "metadata": {},
   "outputs": [],
   "source": [
    "# Plot the actual test predictions and the predicted next 30 days\n",
    "plt.figure(figsize=(15, 20))\n",
    "plt.plot(range(len(y_test)), y_test, color='blue', label='Actual Test Data')\n",
    "plt.plot(range(len(y_test), len(y_test) + len(predicted_stock_prices_lstm)), predicted_stock_prices_lstm, color='red', label='Predicted Next 30 Days')\n",
    "plt.xlabel('Time')\n",
    "plt.ylabel('Stock Price')\n",
    "plt.title('Stock Price Prediction')\n",
    "plt.legend()\n",
    "plt.show()"
   ]
  }
 ],
 "metadata": {
  "kernelspec": {
   "display_name": "base",
   "language": "python",
   "name": "python3"
  },
  "language_info": {
   "codemirror_mode": {
    "name": "ipython",
    "version": 3
   },
   "file_extension": ".py",
   "mimetype": "text/x-python",
   "name": "python",
   "nbconvert_exporter": "python",
   "pygments_lexer": "ipython3",
   "version": "3.11.4"
  }
 },
 "nbformat": 4,
 "nbformat_minor": 2
}
